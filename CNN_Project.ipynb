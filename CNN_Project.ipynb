{
 "cells": [
  {
   "cell_type": "markdown",
   "id": "a97274b1-b57e-41f5-a129-6daa70000d05",
   "metadata": {},
   "source": [
    "# Traffic Danger warning sign\n",
    "\n",
    "---\n",
    "\n",
    "- OUEDRAOGO Taoufiq\n",
    "- NGNINTEDEM Lionel\n",
    "- NANFAH Manoel\n",
    "- TONDJI Andrea"
   ]
  },
  {
   "cell_type": "code",
   "execution_count": 2,
   "id": "f786af4c-e4ea-4ec0-8130-591f3365faa0",
   "metadata": {},
   "outputs": [],
   "source": [
    "import kagglehub\n",
    "import os\n",
    "import shutil\n",
    "import matplotlib.pyplot as plt\n",
    "import seaborn as sns\n",
    "import numpy as np\n",
    "import pandas as pd\n",
    "\n",
    "from tensorflow.keras.preprocessing.image import ImageDataGenerator\n",
    "from sklearn.model_selection import train_test_split\n",
    "from tensorflow.keras.models import Sequential\n",
    "from tensorflow.keras.layers import Conv2D, MaxPooling2D, Flatten, Dense, Dropout, Input\n",
    "from tensorflow.keras.optimizers import Adam\n",
    "from sklearn.utils.class_weight import compute_class_weight\n",
    "\n",
    "import warnings\n",
    "warnings.filterwarnings('ignore', category=UserWarning, module='keras')\n",
    "\n",
    "import pickle\n",
    "import cv2\n",
    "from tqdm import tqdm\n",
    "from pylab import text\n",
    "from PIL import Image\n",
    "from skimage.transform import resize"
   ]
  },
  {
   "cell_type": "markdown",
   "id": "05238736-3d33-482e-b314-941ab5194d05",
   "metadata": {},
   "source": [
    "# I. Download Data From Kaggle"
   ]
  },
  {
   "cell_type": "code",
   "execution_count": 2,
   "id": "6e3df1af-19e6-432a-9a1b-49250a4b9279",
   "metadata": {},
   "outputs": [
    {
     "name": "stdout",
     "output_type": "stream",
     "text": [
      "Path to dataset files: /Users/taoufiq/.cache/kagglehub/datasets/valentynsichkar/traffic-signs-dataset-in-yolo-format/versions/4\n"
     ]
    }
   ],
   "source": [
    "# Download dataset used from Kaggle\n",
    "dataset1 = \"valentynsichkar/traffic-signs-dataset-in-yolo-format\"\n",
    "dataset2 = \"valentynsichkar/traffic-signs-preprocessed\"\n",
    "#path = kagglehub.dataset_download(dataset1)\n",
    "\n",
    "#print(\"Path to dataset files:\", path)"
   ]
  },
  {
   "cell_type": "code",
   "execution_count": 3,
   "id": "411ba91b-ddf6-4140-bb16-4009558ecbf9",
   "metadata": {},
   "outputs": [
    {
     "data": {
      "text/plain": [
       "741.0"
      ]
     },
     "execution_count": 3,
     "metadata": {},
     "output_type": "execute_result"
    }
   ],
   "source": [
    "# Number of Images\n",
    "len(os.listdir(path+'/ts/ts')) / 2"
   ]
  },
  {
   "cell_type": "markdown",
   "id": "535841f1-ff8e-4202-a0aa-0c6b8af96857",
   "metadata": {},
   "source": [
    "You are not obliged to run step 1. and 2. since the data has already been organized\n",
    "\n",
    "## 1. Move data into our current folder"
   ]
  },
  {
   "cell_type": "raw",
   "id": "5123ea02-8518-4af8-9a2b-807ec661abde",
   "metadata": {},
   "source": [
    "for destination_path in ['./data/ts', './data/Classes/Danger', './data/Classes/Others', './data/Classes', './data']:\n",
    "    os.makedirs(destination_path, exist_ok=True)\n",
    "    # Clean the destination folder if it exists\n",
    "    if os.path.exists(destination_path):\n",
    "        for item in os.listdir(destination_path):\n",
    "            item_path = os.path.join(destination_path, item)\n",
    "            if os.path.isfile(item_path) or os.path.islink(item_path):\n",
    "                os.unlink(item_path)  # Remove file or link\n",
    "            elif os.path.isdir(item_path):\n",
    "                shutil.rmtree(item_path)  # Remo"
   ]
  },
  {
   "cell_type": "raw",
   "id": "5e8c71f6-bfb6-475f-b840-130398f4d126",
   "metadata": {},
   "source": [
    "# Create output directory if it doesn't exist\n",
    "destination_path = './data'\n",
    "os.makedirs(destination_path, exist_ok=True)\n",
    "\n",
    "for item in os.listdir(path):\n",
    "    source_item = os.path.join(path, item)\n",
    "    destination_item = os.path.join(destination_path, item)\n",
    "    \n",
    "    if os.path.isfile(source_item):\n",
    "        shutil.copy2(source_item, destination_item)   \n",
    "    elif os.path.isdir(source_item):\n",
    "        shutil.copytree(source_item, destination_item)"
   ]
  },
  {
   "cell_type": "markdown",
   "id": "4de96851-7808-472a-8bd8-36203051c889",
   "metadata": {},
   "source": [
    "## 2. Split Files into \"Danger\" folder and \"Others\" folder"
   ]
  },
  {
   "cell_type": "raw",
   "id": "57c0ff09-cb2b-4213-98bc-3dcd77c52238",
   "metadata": {
    "scrolled": true
   },
   "source": [
    "# Define the directory paths\n",
    "  # Replace with the path of your folder containing the txt and jpg files\n",
    "danger_dir = os.path.join('./', './data/Classes/Danger')\n",
    "others_dir = os.path.join('./', './data/Classes/Others')\n",
    "\n",
    "# Create Danger and Others folders if they don't exist\n",
    "os.makedirs(danger_dir, exist_ok=True)\n",
    "os.makedirs(others_dir, exist_ok=True)\n",
    "\n",
    "# Get all the txt files in the source directory\n",
    "txt_files = [f for f in os.listdir('./data/ts/ts') if f.endswith('.txt')]\n",
    "\n",
    "# Iterate through each txt file\n",
    "for txt_file in txt_files:\n",
    "    txt_file_path = os.path.join('./data/ts/ts', txt_file)\n",
    "    \n",
    "    # Read the first line of the txt file\n",
    "    with open(txt_file_path, 'r') as file:\n",
    "        first_line = file.readline().strip()\n",
    "        class_ = first_line.split(' ')[0]\n",
    "    # Check if the first element is '1'\n",
    "    if class_ == '1':\n",
    "        # Get the corresponding jpg file\n",
    "        jpg_file_name = txt_file.replace('.txt', '.jpg')\n",
    "        jpg_file_path = os.path.join('./data/ts/ts', jpg_file_name)\n",
    "        \n",
    "        # Move the jpg file to the Danger folder\n",
    "        if os.path.exists(jpg_file_path):\n",
    "            shutil.move(jpg_file_path, os.path.join(danger_dir, jpg_file_name))\n",
    "        else:\n",
    "            print(f\"Warning: {jpg_file_name} not found.\")\n",
    "    else:\n",
    "        # Get the corresponding jpg file\n",
    "        jpg_file_name = txt_file.replace('.txt', '.jpg')\n",
    "        jpg_file_path = os.path.join('./data/ts/ts', jpg_file_name)\n",
    "        \n",
    "        # Move the jpg file to the Others folder\n",
    "        if os.path.exists(jpg_file_path):\n",
    "            shutil.move(jpg_file_path, os.path.join(others_dir, jpg_file_name))\n",
    "        else:\n",
    "            print(f\"Warning: {jpg_file_name} not found.\")"
   ]
  },
  {
   "cell_type": "code",
   "execution_count": 3,
   "id": "2c80a449-7b7a-4c14-943f-598520affa30",
   "metadata": {},
   "outputs": [
    {
     "data": {
      "text/plain": [
       "(165, 576, 741)"
      ]
     },
     "execution_count": 3,
     "metadata": {},
     "output_type": "execute_result"
    }
   ],
   "source": [
    "len_danger = len(os.listdir('./data/Classes/Danger'))\n",
    "len_others = len(os.listdir('./data/Classes/Others'))\n",
    "len_danger, len_others, len_danger + len_others"
   ]
  },
  {
   "cell_type": "markdown",
   "id": "bf9fe607-4d38-487d-8c2e-bc9fccb55bf7",
   "metadata": {},
   "source": [
    "## 3. Visualization of Class"
   ]
  },
  {
   "cell_type": "code",
   "execution_count": 3,
   "id": "f5f46bbb-47bd-46a3-aea8-9d41e0243288",
   "metadata": {},
   "outputs": [
    {
     "data": {
      "image/png": "[encoded data removed]",
      "text/plain": [
       "<Figure size 800x600 with 1 Axes>"
      ]
     },
     "metadata": {},
     "output_type": "display_data"
    }
   ],
   "source": [
    "# Get the number of files in each directory\n",
    "others_count = len(os.listdir('./data/Classes/Others'))\n",
    "danger_count = len(os.listdir('./data/Classes/Danger'))\n",
    "\n",
    "# Create a DataFrame for plotting\n",
    "data = pd.DataFrame({'Category': ['Others', 'Danger'],\n",
    "    'Count': [others_count, danger_count]})\n",
    "\n",
    "# Plot the bar chart\n",
    "plt.figure(figsize=(8, 6))\n",
    "ax = sns.barplot(x='Category', y='Count', data=data, hue='Category', legend=False)\n",
    "plt.title('Number of Images in Each Category')\n",
    "plt.xlabel('Category')\n",
    "plt.ylabel('Count')\n",
    "\n",
    "# Add the count value on top of each bar\n",
    "for p in ax.patches:\n",
    "    ax.annotate(f'{int(p.get_height())}', \n",
    "                (p.get_x() + p.get_width() / 2., p.get_height()), \n",
    "                ha='center', va='center', \n",
    "                fontsize=12, color='black', \n",
    "                xytext=(0, 5), textcoords='offset points')\n",
    "plt.show()"
   ]
  },
  {
   "cell_type": "markdown",
   "id": "e4926f19-b400-4fab-b271-b6e217d2f1b1",
   "metadata": {},
   "source": [
    "# II. Data Preparation"
   ]
  },
  {
   "cell_type": "markdown",
   "id": "e0d0539e-51d1-4d4a-88cf-5ea6a7e7366f",
   "metadata": {},
   "source": [
    "## 1. Data Generator\n",
    "\n",
    "This code generates data generators for training, validation, and test sets using images and their corresponding labels stored in pandas DataFrames.\n",
    "\n",
    "Each generator uses the flow_from_dataframe method from Keras’ ImageDataGenerator to load and preprocess the images, resizing them to a fixed size and batching them for efficient processing.\n",
    "\n",
    "The training, validation, and test sets are handled separately using different DataFrames (train_images, val_images, and test_images), and each batch contains images and labels suitable for binary classification (0 or 1). \n",
    "\n",
    "These generators allow the model to train, validate, and test efficiently with preprocessed data."
   ]
  },
  {
   "cell_type": "code",
   "execution_count": 4,
   "id": "518d0470-6641-4dfe-adac-c63c0d525327",
   "metadata": {},
   "outputs": [
    {
     "name": "stdout",
     "output_type": "stream",
     "text": [
      "Found 593 images belonging to 2 classes.\n",
      "Found 148 images belonging to 2 classes.\n"
     ]
    }
   ],
   "source": [
    "# Configuration des chemins et des paramètres\n",
    "data_dir = './data/Classes'  # Dossier contenant les sous-dossiers \"Danger\" et \"Others\"\n",
    "img_height, img_width = 128, 128\n",
    "batch_size = 32\n",
    "\n",
    "# Générateur principal de données\n",
    "datagen = ImageDataGenerator(rescale=1.0/255.0, validation_split=0.2\n",
    "    #rotation_range=20,  # Randomly rotate images by up to 20 degrees\n",
    "    #width_shift_range=0.2,  # Randomly shift images horizontally\n",
    "    #height_shift_range=0.2,  # Randomly shift images vertically\n",
    "    #shear_range=0.2,  # Shear images by up to 20%\n",
    "   # zoom_range=0.2,  # Zoom into the images by up to 20%\n",
    "  #  horizontal_flip=True,  # Randomly flip images horizontally\n",
    "    #fill_mode='nearest',  # Filling missing pixels after transformations\n",
    ")\n",
    "\n",
    "# Charger les images et labels depuis les sous-dossiers\n",
    "train_generator = datagen.flow_from_directory(\n",
    "    data_dir,\n",
    "    target_size=(img_height, img_width),\n",
    "    batch_size=batch_size,\n",
    "    class_mode='binary',\n",
    "    shuffle=True, \n",
    "    subset='training'\n",
    ")\n",
    "\n",
    " \n",
    "# Générer les sous-ensembles de validation  \n",
    "validation_generator = datagen.flow_from_directory(\n",
    "    data_dir,\n",
    "    target_size=(img_height, img_width),\n",
    "    batch_size=batch_size,\n",
    "    class_mode='binary',\n",
    "    shuffle=True, \n",
    "    subset='validation'\n",
    ")"
   ]
  },
  {
   "cell_type": "markdown",
   "id": "69657815-587c-4799-9890-b9ac39745f5d",
   "metadata": {},
   "source": [
    "# III. Modeling\n",
    "\n",
    "This  initializes a convolutional neural network (CNN) for binary image classification. \n",
    "\n",
    "It starts by adding convolutional layers with ReLU activation and max-pooling layers to reduce the spatial dimensions of the feature maps. \n",
    "\n",
    "The network has three sets of convolutional layers, each followed by max-pooling. Afterward, the feature maps are flattened into a 1D vector using the Flatten layer. \n",
    "\n",
    "The model then adds two fully connected layers: one with 128 units and ReLU activation, and another with a single unit and a sigmoid activation function for binary classification. \n",
    "\n",
    "The model is compiled with the Adam optimizer, binary cross-entropy loss (appropriate for binary classification), and accuracy as a performance metric."
   ]
  },
  {
   "cell_type": "code",
   "execution_count": 5,
   "id": "1ba99bf0-2660-4a87-a4c0-340bc44a29fe",
   "metadata": {},
   "outputs": [],
   "source": [
    "model1 = Sequential() # Initialization  \n",
    "\n",
    "model1.add(Conv2D(16, (3, 3), activation='relu', input_shape=(img_height, img_width, 3)))\n",
    "model1.add(MaxPooling2D((2, 2)))\n",
    "\n",
    "model1.add(Conv2D(32, (3, 3), activation='relu'))\n",
    "model1.add(MaxPooling2D((2, 2)))\n",
    "\n",
    "model1.add(Flatten())  # Flattening \n",
    "model1.add(Dense(64, activation='relu'))    # Fully Connected Layer\n",
    "model1.add(Dense(1, activation='sigmoid'))    # Sigmoid for binary classification \n",
    "\n",
    "# Compilation du modèle\n",
    "model1.compile(optimizer='adam', loss='binary_crossentropy', metrics=['accuracy'])"
   ]
  },
  {
   "cell_type": "code",
   "execution_count": 6,
   "id": "c085925e-d4f7-44fc-b440-2207a46648d8",
   "metadata": {},
   "outputs": [
    {
     "data": {
      "text/html": [
       "<pre style=\"white-space:pre;overflow-x:auto;line-height:normal;font-family:Menlo,'DejaVu Sans Mono',consolas,'Courier New',monospace\"><span style=\"font-weight: bold\">Model: \"sequential\"</span>\n",
       "</pre>\n"
      ],
      "text/plain": [
       "\u001b[1mModel: \"sequential\"\u001b[0m\n"
      ]
     },
     "metadata": {},
     "output_type": "display_data"
    },
    {
     "data": {
      "text/html": [
       "<pre style=\"white-space:pre;overflow-x:auto;line-height:normal;font-family:Menlo,'DejaVu Sans Mono',consolas,'Courier New',monospace\">┏━━━━━━━━━━━━━━━━━━━━━━━━━━━━━━━━━┳━━━━━━━━━━━━━━━━━━━━━━━━┳━━━━━━━━━━━━━━━┓\n",
       "┃<span style=\"font-weight: bold\"> Layer (type)                    </span>┃<span style=\"font-weight: bold\"> Output Shape           </span>┃<span style=\"font-weight: bold\">       Param # </span>┃\n",
       "┡━━━━━━━━━━━━━━━━━━━━━━━━━━━━━━━━━╇━━━━━━━━━━━━━━━━━━━━━━━━╇━━━━━━━━━━━━━━━┩\n",
       "│ conv2d (<span style=\"color: #0087ff; text-decoration-color: #0087ff\">Conv2D</span>)                 │ (<span style=\"color: #00d7ff; text-decoration-color: #00d7ff\">None</span>, <span style=\"color: #00af00; text-decoration-color: #00af00\">126</span>, <span style=\"color: #00af00; text-decoration-color: #00af00\">126</span>, <span style=\"color: #00af00; text-decoration-color: #00af00\">16</span>)   │           <span style=\"color: #00af00; text-decoration-color: #00af00\">448</span> │\n",
       "├─────────────────────────────────┼────────────────────────┼───────────────┤\n",
       "│ max_pooling2d (<span style=\"color: #0087ff; text-decoration-color: #0087ff\">MaxPooling2D</span>)    │ (<span style=\"color: #00d7ff; text-decoration-color: #00d7ff\">None</span>, <span style=\"color: #00af00; text-decoration-color: #00af00\">63</span>, <span style=\"color: #00af00; text-decoration-color: #00af00\">63</span>, <span style=\"color: #00af00; text-decoration-color: #00af00\">16</span>)     │             <span style=\"color: #00af00; text-decoration-color: #00af00\">0</span> │\n",
       "├─────────────────────────────────┼────────────────────────┼───────────────┤\n",
       "│ conv2d_1 (<span style=\"color: #0087ff; text-decoration-color: #0087ff\">Conv2D</span>)               │ (<span style=\"color: #00d7ff; text-decoration-color: #00d7ff\">None</span>, <span style=\"color: #00af00; text-decoration-color: #00af00\">61</span>, <span style=\"color: #00af00; text-decoration-color: #00af00\">61</span>, <span style=\"color: #00af00; text-decoration-color: #00af00\">32</span>)     │         <span style=\"color: #00af00; text-decoration-color: #00af00\">4,640</span> │\n",
       "├─────────────────────────────────┼────────────────────────┼───────────────┤\n",
       "│ max_pooling2d_1 (<span style=\"color: #0087ff; text-decoration-color: #0087ff\">MaxPooling2D</span>)  │ (<span style=\"color: #00d7ff; text-decoration-color: #00d7ff\">None</span>, <span style=\"color: #00af00; text-decoration-color: #00af00\">30</span>, <span style=\"color: #00af00; text-decoration-color: #00af00\">30</span>, <span style=\"color: #00af00; text-decoration-color: #00af00\">32</span>)     │             <span style=\"color: #00af00; text-decoration-color: #00af00\">0</span> │\n",
       "├─────────────────────────────────┼────────────────────────┼───────────────┤\n",
       "│ flatten (<span style=\"color: #0087ff; text-decoration-color: #0087ff\">Flatten</span>)               │ (<span style=\"color: #00d7ff; text-decoration-color: #00d7ff\">None</span>, <span style=\"color: #00af00; text-decoration-color: #00af00\">28800</span>)          │             <span style=\"color: #00af00; text-decoration-color: #00af00\">0</span> │\n",
       "├─────────────────────────────────┼────────────────────────┼───────────────┤\n",
       "│ dense (<span style=\"color: #0087ff; text-decoration-color: #0087ff\">Dense</span>)                   │ (<span style=\"color: #00d7ff; text-decoration-color: #00d7ff\">None</span>, <span style=\"color: #00af00; text-decoration-color: #00af00\">64</span>)             │     <span style=\"color: #00af00; text-decoration-color: #00af00\">1,843,264</span> │\n",
       "├─────────────────────────────────┼────────────────────────┼───────────────┤\n",
       "│ dense_1 (<span style=\"color: #0087ff; text-decoration-color: #0087ff\">Dense</span>)                 │ (<span style=\"color: #00d7ff; text-decoration-color: #00d7ff\">None</span>, <span style=\"color: #00af00; text-decoration-color: #00af00\">1</span>)              │            <span style=\"color: #00af00; text-decoration-color: #00af00\">65</span> │\n",
       "└─────────────────────────────────┴────────────────────────┴───────────────┘\n",
       "</pre>\n"
      ],
      "text/plain": [
       "┏━━━━━━━━━━━━━━━━━━━━━━━━━━━━━━━━━┳━━━━━━━━━━━━━━━━━━━━━━━━┳━━━━━━━━━━━━━━━┓\n",
       "┃\u001b[1m \u001b[0m\u001b[1mLayer (type)                   \u001b[0m\u001b[1m \u001b[0m┃\u001b[1m \u001b[0m\u001b[1mOutput Shape          \u001b[0m\u001b[1m \u001b[0m┃\u001b[1m \u001b[0m\u001b[1m      Param #\u001b[0m\u001b[1m \u001b[0m┃\n",
       "┡━━━━━━━━━━━━━━━━━━━━━━━━━━━━━━━━━╇━━━━━━━━━━━━━━━━━━━━━━━━╇━━━━━━━━━━━━━━━┩\n",
       "│ conv2d (\u001b[38;5;33mConv2D\u001b[0m)                 │ (\u001b[38;5;45mNone\u001b[0m, \u001b[38;5;34m126\u001b[0m, \u001b[38;5;34m126\u001b[0m, \u001b[38;5;34m16\u001b[0m)   │           \u001b[38;5;34m448\u001b[0m │\n",
       "├─────────────────────────────────┼────────────────────────┼───────────────┤\n",
       "│ max_pooling2d (\u001b[38;5;33mMaxPooling2D\u001b[0m)    │ (\u001b[38;5;45mNone\u001b[0m, \u001b[38;5;34m63\u001b[0m, \u001b[38;5;34m63\u001b[0m, \u001b[38;5;34m16\u001b[0m)     │             \u001b[38;5;34m0\u001b[0m │\n",
       "├─────────────────────────────────┼────────────────────────┼───────────────┤\n",
       "│ conv2d_1 (\u001b[38;5;33mConv2D\u001b[0m)               │ (\u001b[38;5;45mNone\u001b[0m, \u001b[38;5;34m61\u001b[0m, \u001b[38;5;34m61\u001b[0m, \u001b[38;5;34m32\u001b[0m)     │         \u001b[38;5;34m4,640\u001b[0m │\n",
       "├─────────────────────────────────┼────────────────────────┼───────────────┤\n",
       "│ max_pooling2d_1 (\u001b[38;5;33mMaxPooling2D\u001b[0m)  │ (\u001b[38;5;45mNone\u001b[0m, \u001b[38;5;34m30\u001b[0m, \u001b[38;5;34m30\u001b[0m, \u001b[38;5;34m32\u001b[0m)     │             \u001b[38;5;34m0\u001b[0m │\n",
       "├─────────────────────────────────┼────────────────────────┼───────────────┤\n",
       "│ flatten (\u001b[38;5;33mFlatten\u001b[0m)               │ (\u001b[38;5;45mNone\u001b[0m, \u001b[38;5;34m28800\u001b[0m)          │             \u001b[38;5;34m0\u001b[0m │\n",
       "├─────────────────────────────────┼────────────────────────┼───────────────┤\n",
       "│ dense (\u001b[38;5;33mDense\u001b[0m)                   │ (\u001b[38;5;45mNone\u001b[0m, \u001b[38;5;34m64\u001b[0m)             │     \u001b[38;5;34m1,843,264\u001b[0m │\n",
       "├─────────────────────────────────┼────────────────────────┼───────────────┤\n",
       "│ dense_1 (\u001b[38;5;33mDense\u001b[0m)                 │ (\u001b[38;5;45mNone\u001b[0m, \u001b[38;5;34m1\u001b[0m)              │            \u001b[38;5;34m65\u001b[0m │\n",
       "└─────────────────────────────────┴────────────────────────┴───────────────┘\n"
      ]
     },
     "metadata": {},
     "output_type": "display_data"
    },
    {
     "data": {
      "text/html": [
       "<pre style=\"white-space:pre;overflow-x:auto;line-height:normal;font-family:Menlo,'DejaVu Sans Mono',consolas,'Courier New',monospace\"><span style=\"font-weight: bold\"> Total params: </span><span style=\"color: #00af00; text-decoration-color: #00af00\">1,848,417</span> (7.05 MB)\n",
       "</pre>\n"
      ],
      "text/plain": [
       "\u001b[1m Total params: \u001b[0m\u001b[38;5;34m1,848,417\u001b[0m (7.05 MB)\n"
      ]
     },
     "metadata": {},
     "output_type": "display_data"
    },
    {
     "data": {
      "text/html": [
       "<pre style=\"white-space:pre;overflow-x:auto;line-height:normal;font-family:Menlo,'DejaVu Sans Mono',consolas,'Courier New',monospace\"><span style=\"font-weight: bold\"> Trainable params: </span><span style=\"color: #00af00; text-decoration-color: #00af00\">1,848,417</span> (7.05 MB)\n",
       "</pre>\n"
      ],
      "text/plain": [
       "\u001b[1m Trainable params: \u001b[0m\u001b[38;5;34m1,848,417\u001b[0m (7.05 MB)\n"
      ]
     },
     "metadata": {},
     "output_type": "display_data"
    },
    {
     "data": {
      "text/html": [
       "<pre style=\"white-space:pre;overflow-x:auto;line-height:normal;font-family:Menlo,'DejaVu Sans Mono',consolas,'Courier New',monospace\"><span style=\"font-weight: bold\"> Non-trainable params: </span><span style=\"color: #00af00; text-decoration-color: #00af00\">0</span> (0.00 B)\n",
       "</pre>\n"
      ],
      "text/plain": [
       "\u001b[1m Non-trainable params: \u001b[0m\u001b[38;5;34m0\u001b[0m (0.00 B)\n"
      ]
     },
     "metadata": {},
     "output_type": "display_data"
    }
   ],
   "source": [
    "model1.summary()"
   ]
  },
  {
   "cell_type": "code",
   "execution_count": 7,
   "id": "cbf79854-ee0a-41f1-8088-c39224a42b45",
   "metadata": {},
   "outputs": [
    {
     "name": "stderr",
     "output_type": "stream",
     "text": [
      "Traceback (most recent call last):\n",
      "Exception ignored in: 'zmq.backend.cython.message.Frame.__dealloc__'\n",
      "Traceback (most recent call last):\n",
      "  File \"zmq/backend/cython/checkrc.pxd\", line 13, in zmq.backend.cython.checkrc._check_rc\n",
      "  File \"/opt/anaconda3/lib/python3.12/site-packages/IPython/core/interactiveshell.py\", line 3577, in run_code\n",
      "    exec(code_obj, self.user_global_ns, self.user_ns)\n",
      "  File \"/var/folders/j6/b2tmcfy95pbc2c4bh143v2dc0000gn/T/ipykernel_99467/3847604834.py\", line 1, in <module>\n",
      "    history1 = model1.fit(train_generator, epochs=10, verbose=True, validation_data=validation_generator)\n",
      "               ^^^^^^^^^^^^^^^^^^^^^^^^^^^^^^^^^^^^^^^^^^^^^^^^^^^^^^^^^^^^^^^^^^^^^^^^^^^^^^^^^^^^^^^^^^\n",
      "  File \"/opt/anaconda3/lib/python3.12/site-packages/keras/src/utils/traceback_utils.py\", line 117, in error_handler\n",
      "    return fn(*args, **kwargs)\n",
      "           ^^^^^^^^^^^^^^^^^^^\n",
      "  File \"/opt/anaconda3/lib/python3.12/site-packages/keras/src/backend/tensorflow/trainer.py\", line 282, in fit\n",
      "    epoch_iterator = TFEpochIterator(\n",
      "                     ^^^^^^^^^^^^^^^^\n",
      "  File \"/opt/anaconda3/lib/python3.12/site-packages/keras/src/backend/tensorflow/trainer.py\", line 666, in __init__\n",
      "    dataset = self._get_iterator()\n",
      "              ^^^^^^^^^^^^^^^^^^^^\n",
      "  File \"/opt/anaconda3/lib/python3.12/site-packages/keras/src/backend/tensorflow/trainer.py\", line 675, in _get_iterator\n",
      "    return self.data_adapter.get_tf_dataset()\n",
      "           ^^^^^^^^^^^^^^^^^^^^^^^^^^^^^^^^^^\n",
      "  File \"/opt/anaconda3/lib/python3.12/site-packages/keras/src/trainers/data_adapters/py_dataset_adapter.py\", line 290, in get_tf_dataset\n",
      "    self._standardize_batch(self.py_dataset[i])\n",
      "                            ~~~~~~~~~~~~~~~^^^\n",
      "  File \"/opt/anaconda3/lib/python3.12/site-packages/keras/src/legacy/preprocessing/image.py\", line 68, in __getitem__\n",
      "    return self._get_batches_of_transformed_samples(index_array)\n",
      "           ^^^^^^^^^^^^^^^^^^^^^^^^^^^^^^^^^^^^^^^^^^^^^^^^^^^^^\n",
      "  File \"/opt/anaconda3/lib/python3.12/site-packages/keras/src/legacy/preprocessing/image.py\", line 313, in _get_batches_of_transformed_samples\n",
      "    img = image_utils.load_img(\n",
      "          ^^^^^^^^^^^^^^^^^^^^^\n",
      "  File \"/opt/anaconda3/lib/python3.12/site-packages/keras/src/utils/image_utils.py\", line 236, in load_img\n",
      "    img = pil_image.open(io.BytesIO(f.read()))\n",
      "                                    ^^^^^^^^\n",
      "KeyboardInterrupt\n",
      "\n",
      "During handling of the above exception, another exception occurred:\n",
      "\n",
      "Traceback (most recent call last):\n",
      "  File \"/opt/anaconda3/lib/python3.12/site-packages/executing/executing.py\", line 317, in executing\n",
      "    args = executing_cache[key]\n",
      "           ~~~~~~~~~~~~~~~^^^^^\n",
      "KeyError: (<code object __getitem__ at 0x17806cb70, file \"/opt/anaconda3/lib/python3.12/site-packages/keras/src/legacy/preprocessing/image.py\", line 53>, 6308678512, 452)\n",
      "\n",
      "During handling of the above exception, another exception occurred:\n",
      "\n",
      "Traceback (most recent call last):\n",
      "  File \"zmq/backend/cython/checkrc.pxd\", line 13, in zmq.backend.cython.checkrc._check_rc\n",
      "KeyboardInterrupt\n",
      "KeyboardInterrupt: \n",
      "\n",
      "KeyboardInterrupt\n",
      "\n"
     ]
    }
   ],
   "source": [
    "history1 = model1.fit(train_generator, epochs=10, verbose=True, validation_data=validation_generator)"
   ]
  },
  {
   "cell_type": "markdown",
   "id": "2db8424d-33cd-45db-8491-85d139f3bc0b",
   "metadata": {},
   "source": [
    "## Plot Loss and Accuracy"
   ]
  },
  {
   "cell_type": "code",
   "execution_count": 18,
   "id": "21965a4b-aafc-47f2-9811-dc1812436ed6",
   "metadata": {},
   "outputs": [
    {
     "data": {
      "image/png": "[encoded data removed]",
      "text/plain": [
       "<Figure size 2000x500 with 2 Axes>"
      ]
     },
     "metadata": {},
     "output_type": "display_data"
    }
   ],
   "source": [
    "# Plot Loss\n",
    "plt.figure(figsize=(20, 5))\n",
    "plt.subplot(1, 2, 1)\n",
    "plt.plot(history1.history['loss'], label='Training', marker='o')\n",
    "plt.plot(history1.history['val_loss'], label='Validation', marker='o')\n",
    "plt.title('Loss')\n",
    "plt.xlabel('Epoch')\n",
    "plt.ylabel('Loss')\n",
    "plt.legend()\n",
    "\n",
    "# Plot Accuracy\n",
    "plt.subplot(1, 2, 2)\n",
    "plt.plot(history1.history['accuracy'], label='Training', marker='o')\n",
    "plt.plot(history1.history['val_accuracy'], label='Validation', marker='o')\n",
    "plt.title('Accuracy')\n",
    "plt.xlabel('Epoch')\n",
    "plt.ylabel('Accuracy')\n",
    "plt.legend()\n",
    "plt.tight_layout()\n",
    "plt.show()"
   ]
  },
  {
   "cell_type": "markdown",
   "id": "1d52c610-46da-423f-94eb-4d976aaed5c2",
   "metadata": {},
   "source": [
    "## Analysis of results\n",
    "\n",
    "Evolution of training accuracy: We can see that training accuracy increases over the epochs, indicating that the model is learning to better predict the training data. The training accuracy increases from 67.52% to 82.18% after 10 epochs, which is a significant improvement.\n",
    "\n",
    "Evolution of training loss: The training loss gradually decreases from 0.9826 to 0.4650, which is a sign that the model is improving its predictions on the training data.\n",
    "\n",
    "Validation accuracy and loss (val_accuracy and val_loss): The validation accuracy remains constant at 0.7311 and the validation loss varies slightly. This may suggest **overfitting**, as performance on the validation data does not improve whereas it does on the training data.\n",
    "\n",
    "\n",
    "## Imbalanced Classes\n",
    "\n",
    "Given the imbalanced classes in our dataset (“DANGER” with 165 instances and “OTHERS” with 576), the model might be biased toward predicting the majority class, “OTHERS.” This could explain why the model achieves high accuracy on training data but struggles on validation data, as it focuses on the majority class and neglects the minority class.\n",
    "- The model tends to predict “OTHERS” more often, since it’s the majority class, leading to good accuracy but poor performance on “DANGER.”\n",
    "- Accuracy Is Misleading: High accuracy doesn’t mean good performance for both classes. The model may perform well on “OTHERS” but fail on “DANGER.”"
   ]
  },
  {
   "cell_type": "code",
   "execution_count": 14,
   "id": "55f01cb4-66a9-48d7-914a-3ebbfa55cd61",
   "metadata": {},
   "outputs": [
    {
     "data": {
      "text/plain": [
       "{'0': 0.6432291666666666, '1': 2.2454545454545456}"
      ]
     },
     "execution_count": 14,
     "metadata": {},
     "output_type": "execute_result"
    }
   ],
   "source": [
    "# Calculate class weights based on the labels\n",
    "# Define the labels\n",
    "labels = [0] * 576 + [1] * 165  # Assuming 0 = 'Others', 1 = 'Danger'\n",
    "\n",
    "# Compute class weights using sklearn utility\n",
    "class_weights = compute_class_weight(class_weight='balanced', classes=np.unique(labels), y=labels)\n",
    "\n",
    "# Convert to dictionary format expected by Keras\n",
    "class_weight_dict = {str(i): class_weights[i] for i in range(len(class_weights))}\n",
    "class_weight_dict"
   ]
  },
  {
   "cell_type": "code",
   "execution_count": 50,
   "id": "2f5bee15-f051-4ee5-952c-2c765d77e369",
   "metadata": {},
   "outputs": [
    {
     "ename": "ValueError",
     "evalue": "Unrecognized data type: x=['./data/Classes/Others/00473.jpg', './data/Classes/Others/00367.jpg', './data/Classes/Danger/00858.jpg', './data/Classes/Others/00702.jpg', './data/Classes/Others/00436.jpg', './data/Classes/Others/00252.jpg', './data/Classes/Others/00468.jpg', './data/Classes/Others/00758.jpg', './data/Classes/Danger/00662.jpg', './data/Classes/Others/00502.jpg', './data/Classes/Others/00352.jpg', './data/Classes/Others/00206.jpg', './data/Classes/Others/00860.jpg', './data/Classes/Others/00360.jpg', './data/Classes/Others/00449.jpg', './data/Classes/Others/00236.jpg', './data/Classes/Others/00886.jpg', './data/Classes/Others/00733.jpg', './data/Classes/Others/00162.jpg', './data/Classes/Others/00887.jpg', './data/Classes/Others/00128.jpg', './data/Classes/Others/00317.jpg', './data/Classes/Danger/00100.jpg', './data/Classes/Others/00441.jpg', './data/Classes/Danger/00077.jpg', './data/Classes/Danger/00316.jpg', './data/Classes/Others/00268.jpg', './data/Classes/Others/00705.jpg', './data/Classes/Danger/00076.jpg', './data/Classes/Others/00593.jpg', './data/Classes/Others/00690.jpg', './data/Classes/Others/00124.jpg', './data/Classes/Others/00018.jpg', './data/Classes/Others/00477.jpg', './data/Classes/Others/00156.jpg', './data/Classes/Others/00411.jpg', './data/Classes/Others/00382.jpg', './data/Classes/Others/00825.jpg', './data/Classes/Others/00037.jpg', './data/Classes/Danger/00440.jpg', './data/Classes/Others/00496.jpg', './data/Classes/Others/00483.jpg', './data/Classes/Others/00234.jpg', './data/Classes/Others/00775.jpg', './data/Classes/Others/00667.jpg', './data/Classes/Others/00439.jpg', './data/Classes/Others/00668.jpg', './data/Classes/Danger/00807.jpg', './data/Classes/Others/00096.jpg', './data/Classes/Others/00177.jpg', './data/Classes/Others/00102.jpg', './data/Classes/Others/00253.jpg', './data/Classes/Others/00240.jpg', './data/Classes/Others/00080.jpg', './data/Classes/Others/00348.jpg', './data/Classes/Others/00570.jpg', './data/Classes/Danger/00481.jpg', './data/Classes/Others/00067.jpg', './data/Classes/Others/00203.jpg', './data/Classes/Others/00610.jpg', './data/Classes/Others/00026.jpg', './data/Classes/Others/00851.jpg', './data/Classes/Danger/00864.jpg', './data/Classes/Danger/00697.jpg', './data/Classes/Others/00624.jpg', './data/Classes/Others/00262.jpg', './data/Classes/Others/00344.jpg', './data/Classes/Others/00152.jpg', './data/Classes/Others/00798.jpg', './data/Classes/Others/00896.jpg', './data/Classes/Others/00283.jpg', './data/Classes/Danger/00845.jpg', './data/Classes/Others/00027.jpg', './data/Classes/Danger/00070.jpg', './data/Classes/Others/00379.jpg', './data/Classes/Others/00695.jpg', './data/Classes/Others/00762.jpg', './data/Classes/Danger/00148.jpg', './data/Classes/Others/00884.jpg', './data/Classes/Others/00854.jpg', './data/Classes/Danger/00492.jpg', './data/Classes/Others/00478.jpg', './data/Classes/Others/00373.jpg', './data/Classes/Others/00048.jpg', './data/Classes/Others/00725.jpg', './data/Classes/Others/00694.jpg', './data/Classes/Others/00730.jpg', './data/Classes/Others/00524.jpg', './data/Classes/Others/00686.jpg', './data/Classes/Others/00005.jpg', './data/Classes/Others/00242.jpg', './data/Classes/Others/00138.jpg', './data/Classes/Others/00612.jpg', './data/Classes/Others/00761.jpg', './data/Classes/Others/00794.jpg', './data/Classes/Danger/00398.jpg', './data/Classes/Others/00485.jpg', './data/Classes/Danger/00282.jpg', './data/Classes/Others/00885.jpg', './data/Classes/Others/00611.jpg', './data/Classes/Danger/00703.jpg', './data/Classes/Others/00154.jpg', './data/Classes/Danger/00073.jpg', './data/Classes/Danger/00544.jpg', './data/Classes/Others/00284.jpg', './data/Classes/Others/00210.jpg', './data/Classes/Others/00760.jpg', './data/Classes/Others/00778.jpg', './data/Classes/Others/00340.jpg', './data/Classes/Others/00626.jpg', './data/Classes/Others/00171.jpg', './data/Classes/Others/00142.jpg', './data/Classes/Danger/00443.jpg', './data/Classes/Others/00181.jpg', './data/Classes/Others/00531.jpg', './data/Classes/Others/00237.jpg', './data/Classes/Others/00795.jpg', './data/Classes/Others/00122.jpg', './data/Classes/Others/00634.jpg', './data/Classes/Others/00039.jpg', './data/Classes/Others/00836.jpg', './data/Classes/Others/00655.jpg', './data/Classes/Others/00552.jpg', './data/Classes/Others/00003.jpg', './data/Classes/Others/00813.jpg', './data/Classes/Others/00151.jpg', './data/Classes/Danger/00453.jpg', './data/Classes/Others/00057.jpg', './data/Classes/Danger/00265.jpg', './data/Classes/Others/00269.jpg', './data/Classes/Others/00789.jpg', './data/Classes/Others/00346.jpg', './data/Classes/Danger/00188.jpg', './data/Classes/Danger/00811.jpg', './data/Classes/Others/00434.jpg', './data/Classes/Others/00685.jpg', './data/Classes/Others/00260.jpg', './data/Classes/Others/00158.jpg', './data/Classes/Danger/00867.jpg', './data/Classes/Others/00192.jpg', './data/Classes/Others/00850.jpg', './data/Classes/Danger/00507.jpg', './data/Classes/Others/00091.jpg', './data/Classes/Others/00427.jpg', './data/Classes/Others/00204.jpg', './data/Classes/Danger/00828.jpg', './data/Classes/Others/00701.jpg', './data/Classes/Others/00375.jpg', './data/Classes/Others/00068.jpg', './data/Classes/Others/00180.jpg', './data/Classes/Danger/00071.jpg', './data/Classes/Others/00744.jpg', './data/Classes/Others/00405.jpg', './data/Classes/Others/00425.jpg', './data/Classes/Danger/00788.jpg', './data/Classes/Others/00241.jpg', './data/Classes/Others/00476.jpg', './data/Classes/Others/00011.jpg', './data/Classes/Others/00551.jpg', './data/Classes/Danger/00615.jpg', './data/Classes/Others/00808.jpg', './data/Classes/Danger/00802.jpg', './data/Classes/Others/00289.jpg', './data/Classes/Others/00862.jpg', './data/Classes/Others/00212.jpg', './data/Classes/Others/00391.jpg', './data/Classes/Others/00009.jpg', './data/Classes/Others/00215.jpg', './data/Classes/Others/00565.jpg', './data/Classes/Others/00566.jpg', './data/Classes/Others/00149.jpg', './data/Classes/Danger/00622.jpg', './data/Classes/Others/00066.jpg', './data/Classes/Others/00521.jpg', './data/Classes/Others/00898.jpg', './data/Classes/Danger/00266.jpg', './data/Classes/Others/00463.jpg', './data/Classes/Danger/00855.jpg', './data/Classes/Others/00125.jpg', './data/Classes/Others/00280.jpg', './data/Classes/Danger/00000.jpg', './data/Classes/Others/00842.jpg', './data/Classes/Others/00465.jpg', './data/Classes/Others/00041.jpg', './data/Classes/Danger/00837.jpg', './data/Classes/Others/00040.jpg', './data/Classes/Others/00720.jpg', './data/Classes/Danger/00426.jpg', './data/Classes/Others/00245.jpg', './data/Classes/Danger/00422.jpg', './data/Classes/Danger/00816.jpg', './data/Classes/Others/00366.jpg', './data/Classes/Others/00620.jpg', './data/Classes/Others/00343.jpg', './data/Classes/Others/00016.jpg', './data/Classes/Others/00293.jpg', './data/Classes/Others/00376.jpg', './data/Classes/Others/00749.jpg', './data/Classes/Others/00445.jpg', './data/Classes/Others/00318.jpg', './data/Classes/Others/00084.jpg', './data/Classes/Danger/00869.jpg', './data/Classes/Others/00307.jpg', './data/Classes/Others/00664.jpg', './data/Classes/Others/00118.jpg', './data/Classes/Others/00746.jpg', './data/Classes/Others/00879.jpg', './data/Classes/Others/00359.jpg', './data/Classes/Others/00129.jpg', './data/Classes/Danger/00817.jpg', './data/Classes/Others/00374.jpg', './data/Classes/Danger/00191.jpg', './data/Classes/Others/00333.jpg', './data/Classes/Danger/00567.jpg', './data/Classes/Others/00420.jpg', './data/Classes/Danger/00106.jpg', './data/Classes/Danger/00450.jpg', './data/Classes/Others/00656.jpg', './data/Classes/Others/00679.jpg', './data/Classes/Others/00402.jpg', './data/Classes/Danger/00004.jpg', './data/Classes/Others/00178.jpg', './data/Classes/Others/00090.jpg', './data/Classes/Others/00087.jpg', './data/Classes/Others/00571.jpg', './data/Classes/Others/00353.jpg', './data/Classes/Others/00466.jpg', './data/Classes/Others/00678.jpg', './data/Classes/Others/00605.jpg', './data/Classes/Others/00372.jpg', './data/Classes/Others/00613.jpg', './data/Classes/Others/00715.jpg', './data/Classes/Others/00729.jpg', './data/Classes/Danger/00183.jpg', './data/Classes/Others/00523.jpg', './data/Classes/Danger/00787.jpg', './data/Classes/Danger/00607.jpg', './data/Classes/Others/00415.jpg', './data/Classes/Danger/00172.jpg', './data/Classes/Others/00396.jpg', './data/Classes/Others/00756.jpg', './data/Classes/Others/00518.jpg', './data/Classes/Others/00738.jpg', './data/Classes/Others/00846.jpg', './data/Classes/Others/00313.jpg', './data/Classes/Others/00123.jpg', './data/Classes/Others/00616.jpg', './data/Classes/Others/00752.jpg', './data/Classes/Others/00515.jpg', './data/Classes/Others/00766.jpg', './data/Classes/Others/00069.jpg', './data/Classes/Danger/00665.jpg', './data/Classes/Others/00696.jpg', './data/Classes/Others/00111.jpg', './data/Classes/Others/00302.jpg', './data/Classes/Others/00458.jpg', './data/Classes/Others/00378.jpg', './data/Classes/Danger/00406.jpg', './data/Classes/Danger/00805.jpg', './data/Classes/Danger/00835.jpg', './data/Classes/Danger/00791.jpg', './data/Classes/Others/00421.jpg', './data/Classes/Others/00504.jpg', './data/Classes/Others/00243.jpg', './data/Classes/Others/00609.jpg', './data/Classes/Others/00430.jpg', './data/Classes/Others/00032.jpg', './data/Classes/Others/00414.jpg', './data/Classes/Others/00410.jpg', './data/Classes/Others/00044.jpg', './data/Classes/Others/00654.jpg', './data/Classes/Others/00187.jpg', './data/Classes/Others/00202.jpg', './data/Classes/Others/00412.jpg', './data/Classes/Danger/00160.jpg', './data/Classes/Others/00638.jpg', './data/Classes/Danger/00189.jpg', './data/Classes/Others/00144.jpg', './data/Classes/Others/00751.jpg', './data/Classes/Others/00503.jpg', './data/Classes/Others/00479.jpg', './data/Classes/Others/00519.jpg', './data/Classes/Others/00380.jpg', './data/Classes/Others/00456.jpg', './data/Classes/Danger/00771.jpg', './data/Classes/Danger/00047.jpg', './data/Classes/Others/00267.jpg', './data/Classes/Others/00672.jpg', './data/Classes/Danger/00689.jpg', './data/Classes/Others/00699.jpg', './data/Classes/Danger/00079.jpg', './data/Classes/Danger/00257.jpg', './data/Classes/Others/00680.jpg', './data/Classes/Others/00782.jpg', './data/Classes/Others/00803.jpg', './data/Classes/Others/00247.jpg', './data/Classes/Others/00838.jpg', './data/Classes/Others/00732.jpg', './data/Classes/Others/00175.jpg', './data/Classes/Others/00536.jpg', './data/Classes/Others/00413.jpg', './data/Classes/Others/00432.jpg', './data/Classes/Others/00330.jpg', './data/Classes/Others/00498.jpg', './data/Classes/Others/00200.jpg', './data/Classes/Others/00419.jpg', './data/Classes/Others/00602.jpg', './data/Classes/Others/00448.jpg', './data/Classes/Others/00650.jpg', './data/Classes/Others/00834.jpg', './data/Classes/Others/00428.jpg', './data/Classes/Others/00082.jpg', './data/Classes/Others/00303.jpg', './data/Classes/Others/00460.jpg', './data/Classes/Others/00491.jpg', './data/Classes/Others/00888.jpg', './data/Classes/Others/00025.jpg', './data/Classes/Danger/00195.jpg', './data/Classes/Others/00741.jpg', './data/Classes/Others/00176.jpg', './data/Classes/Others/00663.jpg', './data/Classes/Others/00857.jpg', './data/Classes/Others/00141.jpg', './data/Classes/Danger/00021.jpg', './data/Classes/Others/00061.jpg', './data/Classes/Others/00474.jpg', './data/Classes/Others/00217.jpg', './data/Classes/Others/00051.jpg', './data/Classes/Danger/00104.jpg', './data/Classes/Others/00053.jpg', './data/Classes/Others/00286.jpg', './data/Classes/Others/00251.jpg', './data/Classes/Others/00101.jpg', './data/Classes/Danger/00493.jpg', './data/Classes/Danger/00075.jpg', './data/Classes/Others/00416.jpg', './data/Classes/Others/00866.jpg', './data/Classes/Others/00351.jpg', './data/Classes/Others/00296.jpg', './data/Classes/Others/00277.jpg', './data/Classes/Others/00435.jpg', './data/Classes/Danger/00211.jpg', './data/Classes/Others/00872.jpg', './data/Classes/Others/00049.jpg', './data/Classes/Others/00182.jpg', './data/Classes/Others/00700.jpg', './data/Classes/Others/00881.jpg', './data/Classes/Danger/00651.jpg', './data/Classes/Others/00169.jpg', './data/Classes/Others/00010.jpg', './data/Classes/Others/00315.jpg', './data/Classes/Danger/00772.jpg', './data/Classes/Others/00341.jpg', './data/Classes/Others/00785.jpg', './data/Classes/Danger/00383.jpg', './data/Classes/Others/00871.jpg', './data/Classes/Others/00357.jpg', './data/Classes/Others/00497.jpg', './data/Classes/Others/00628.jpg', './data/Classes/Others/00659.jpg', './data/Classes/Others/00198.jpg', './data/Classes/Others/00719.jpg', './data/Classes/Danger/00224.jpg', './data/Classes/Others/00721.jpg', './data/Classes/Others/00870.jpg', './data/Classes/Others/00517.jpg', './data/Classes/Others/00865.jpg', './data/Classes/Others/00109.jpg', './data/Classes/Danger/00723.jpg', './data/Classes/Others/00233.jpg', './data/Classes/Others/00337.jpg', './data/Classes/Others/00484.jpg', './data/Classes/Others/00849.jpg', './data/Classes/Others/00683.jpg', './data/Classes/Danger/00455.jpg', './data/Classes/Danger/00031.jpg', './data/Classes/Danger/00238.jpg', './data/Classes/Others/00575.jpg', './data/Classes/Others/00661.jpg', './data/Classes/Others/00350.jpg', './data/Classes/Others/00153.jpg', './data/Classes/Danger/00822.jpg', './data/Classes/Danger/00205.jpg', './data/Classes/Others/00134.jpg', './data/Classes/Others/00698.jpg', './data/Classes/Danger/00671.jpg', './data/Classes/Danger/00054.jpg', './data/Classes/Others/00499.jpg', './data/Classes/Others/00619.jpg', './data/Classes/Others/00601.jpg', './data/Classes/Danger/00017.jpg', './data/Classes/Others/00114.jpg', './data/Classes/Danger/00728.jpg', './data/Classes/Others/00225.jpg', './data/Classes/Others/00754.jpg', './data/Classes/Others/00290.jpg', './data/Classes/Danger/00305.jpg', './data/Classes/Danger/00294.jpg', './data/Classes/Danger/00393.jpg', './data/Classes/Others/00472.jpg', './data/Classes/Others/00642.jpg', './data/Classes/Others/00135.jpg', './data/Classes/Others/00784.jpg', './data/Classes/Others/00527.jpg', './data/Classes/Others/00514.jpg', './data/Classes/Others/00841.jpg', './data/Classes/Others/00161.jpg', './data/Classes/Others/00098.jpg', './data/Classes/Others/00007.jpg', './data/Classes/Others/00140.jpg', './data/Classes/Others/00827.jpg', './data/Classes/Others/00645.jpg', './data/Classes/Danger/00418.jpg', './data/Classes/Others/00050.jpg', './data/Classes/Others/00623.jpg', './data/Classes/Others/00270.jpg', './data/Classes/Others/00216.jpg', './data/Classes/Others/00166.jpg', './data/Classes/Others/00606.jpg', './data/Classes/Others/00530.jpg', './data/Classes/Others/00019.jpg', './data/Classes/Others/00542.jpg', './data/Classes/Others/00232.jpg', './data/Classes/Others/00639.jpg', './data/Classes/Others/00528.jpg', './data/Classes/Danger/00028.jpg', './data/Classes/Others/00706.jpg', './data/Classes/Others/00291.jpg', './data/Classes/Danger/00564.jpg', './data/Classes/Others/00110.jpg', './data/Classes/Others/00223.jpg', './data/Classes/Others/00853.jpg', './data/Classes/Others/00246.jpg', './data/Classes/Others/00023.jpg', './data/Classes/Others/00163.jpg', './data/Classes/Others/00833.jpg', './data/Classes/Others/00734.jpg', './data/Classes/Others/00278.jpg', './data/Classes/Others/00287.jpg', './data/Classes/Others/00682.jpg', './data/Classes/Others/00186.jpg', './data/Classes/Danger/00452.jpg', './data/Classes/Others/00116.jpg', './data/Classes/Others/00065.jpg', './data/Classes/Others/00548.jpg', './data/Classes/Others/00603.jpg', './data/Classes/Danger/00604.jpg', './data/Classes/Others/00220.jpg', './data/Classes/Others/00275.jpg', './data/Classes/Danger/00444.jpg', './data/Classes/Others/00094.jpg', './data/Classes/Others/00545.jpg', './data/Classes/Danger/00197.jpg', './data/Classes/Others/00797.jpg', './data/Classes/Others/00776.jpg', './data/Classes/Others/00647.jpg', './data/Classes/Others/00488.jpg', './data/Classes/Danger/00168.jpg', './data/Classes/Others/00334.jpg', './data/Classes/Others/00755.jpg', './data/Classes/Others/00848.jpg', './data/Classes/Others/00646.jpg', './data/Classes/Others/00824.jpg', './data/Classes/Others/00480.jpg', './data/Classes/Others/00029.jpg', './data/Classes/Others/00056.jpg', './data/Classes/Others/00494.jpg', './data/Classes/Danger/00763.jpg', './data/Classes/Others/00250.jpg', './data/Classes/Others/00377.jpg', './data/Classes/Others/00740.jpg', './data/Classes/Others/00292.jpg', './data/Classes/Danger/00022.jpg'] (of type <class 'list'>)",
     "output_type": "error",
     "traceback": [
      "\u001b[0;31m---------------------------------------------------------------------------\u001b[0m",
      "\u001b[0;31mValueError\u001b[0m                                Traceback (most recent call last)",
      "Cell \u001b[0;32mIn[50], line 1\u001b[0m\n\u001b[0;32m----> 1\u001b[0m history_w \u001b[38;5;241m=\u001b[39m model1\u001b[38;5;241m.\u001b[39mfit(train_images, train_labels, validation_data\u001b[38;5;241m=\u001b[39m(val_images, val_labels), epochs\u001b[38;5;241m=\u001b[39m\u001b[38;5;241m10\u001b[39m, batch_size\u001b[38;5;241m=\u001b[39m\u001b[38;5;241m32\u001b[39m, class_weight\u001b[38;5;241m=\u001b[39mclass_weight_dict)\n",
      "File \u001b[0;32m/opt/anaconda3/lib/python3.12/site-packages/keras/src/utils/traceback_utils.py:122\u001b[0m, in \u001b[0;36mfilter_traceback.<locals>.error_handler\u001b[0;34m(*args, **kwargs)\u001b[0m\n\u001b[1;32m    119\u001b[0m     filtered_tb \u001b[38;5;241m=\u001b[39m _process_traceback_frames(e\u001b[38;5;241m.\u001b[39m__traceback__)\n\u001b[1;32m    120\u001b[0m     \u001b[38;5;66;03m# To get the full stack trace, call:\u001b[39;00m\n\u001b[1;32m    121\u001b[0m     \u001b[38;5;66;03m# `keras.config.disable_traceback_filtering()`\u001b[39;00m\n\u001b[0;32m--> 122\u001b[0m     \u001b[38;5;28;01mraise\u001b[39;00m e\u001b[38;5;241m.\u001b[39mwith_traceback(filtered_tb) \u001b[38;5;28;01mfrom\u001b[39;00m \u001b[38;5;28;01mNone\u001b[39;00m\n\u001b[1;32m    123\u001b[0m \u001b[38;5;28;01mfinally\u001b[39;00m:\n\u001b[1;32m    124\u001b[0m     \u001b[38;5;28;01mdel\u001b[39;00m filtered_tb\n",
      "File \u001b[0;32m/opt/anaconda3/lib/python3.12/site-packages/keras/src/trainers/data_adapters/__init__.py:120\u001b[0m, in \u001b[0;36mget_data_adapter\u001b[0;34m(x, y, sample_weight, batch_size, steps_per_epoch, shuffle, class_weight)\u001b[0m\n\u001b[1;32m    112\u001b[0m     \u001b[38;5;28;01mreturn\u001b[39;00m GeneratorDataAdapter(x)\n\u001b[1;32m    113\u001b[0m     \u001b[38;5;66;03m# TODO: should we warn or not?\u001b[39;00m\n\u001b[1;32m    114\u001b[0m     \u001b[38;5;66;03m# warnings.warn(\u001b[39;00m\n\u001b[1;32m    115\u001b[0m     \u001b[38;5;66;03m#     \"`shuffle=True` was passed, but will be ignored since the \"\u001b[39;00m\n\u001b[0;32m   (...)\u001b[0m\n\u001b[1;32m    118\u001b[0m     \u001b[38;5;66;03m# )\u001b[39;00m\n\u001b[1;32m    119\u001b[0m \u001b[38;5;28;01melse\u001b[39;00m:\n\u001b[0;32m--> 120\u001b[0m     \u001b[38;5;28;01mraise\u001b[39;00m \u001b[38;5;167;01mValueError\u001b[39;00m(\u001b[38;5;124mf\u001b[39m\u001b[38;5;124m\"\u001b[39m\u001b[38;5;124mUnrecognized data type: x=\u001b[39m\u001b[38;5;132;01m{\u001b[39;00mx\u001b[38;5;132;01m}\u001b[39;00m\u001b[38;5;124m (of type \u001b[39m\u001b[38;5;132;01m{\u001b[39;00m\u001b[38;5;28mtype\u001b[39m(x)\u001b[38;5;132;01m}\u001b[39;00m\u001b[38;5;124m)\u001b[39m\u001b[38;5;124m\"\u001b[39m)\n",
      "\u001b[0;31mValueError\u001b[0m: Unrecognized data type: x=['./data/Classes/Others/00473.jpg', './data/Classes/Others/00367.jpg', './data/Classes/Danger/00858.jpg', './data/Classes/Others/00702.jpg', './data/Classes/Others/00436.jpg', './data/Classes/Others/00252.jpg', './data/Classes/Others/00468.jpg', './data/Classes/Others/00758.jpg', './data/Classes/Danger/00662.jpg', './data/Classes/Others/00502.jpg', './data/Classes/Others/00352.jpg', './data/Classes/Others/00206.jpg', './data/Classes/Others/00860.jpg', './data/Classes/Others/00360.jpg', './data/Classes/Others/00449.jpg', './data/Classes/Others/00236.jpg', './data/Classes/Others/00886.jpg', './data/Classes/Others/00733.jpg', './data/Classes/Others/00162.jpg', './data/Classes/Others/00887.jpg', './data/Classes/Others/00128.jpg', './data/Classes/Others/00317.jpg', './data/Classes/Danger/00100.jpg', './data/Classes/Others/00441.jpg', './data/Classes/Danger/00077.jpg', './data/Classes/Danger/00316.jpg', './data/Classes/Others/00268.jpg', './data/Classes/Others/00705.jpg', './data/Classes/Danger/00076.jpg', './data/Classes/Others/00593.jpg', './data/Classes/Others/00690.jpg', './data/Classes/Others/00124.jpg', './data/Classes/Others/00018.jpg', './data/Classes/Others/00477.jpg', './data/Classes/Others/00156.jpg', './data/Classes/Others/00411.jpg', './data/Classes/Others/00382.jpg', './data/Classes/Others/00825.jpg', './data/Classes/Others/00037.jpg', './data/Classes/Danger/00440.jpg', './data/Classes/Others/00496.jpg', './data/Classes/Others/00483.jpg', './data/Classes/Others/00234.jpg', './data/Classes/Others/00775.jpg', './data/Classes/Others/00667.jpg', './data/Classes/Others/00439.jpg', './data/Classes/Others/00668.jpg', './data/Classes/Danger/00807.jpg', './data/Classes/Others/00096.jpg', './data/Classes/Others/00177.jpg', './data/Classes/Others/00102.jpg', './data/Classes/Others/00253.jpg', './data/Classes/Others/00240.jpg', './data/Classes/Others/00080.jpg', './data/Classes/Others/00348.jpg', './data/Classes/Others/00570.jpg', './data/Classes/Danger/00481.jpg', './data/Classes/Others/00067.jpg', './data/Classes/Others/00203.jpg', './data/Classes/Others/00610.jpg', './data/Classes/Others/00026.jpg', './data/Classes/Others/00851.jpg', './data/Classes/Danger/00864.jpg', './data/Classes/Danger/00697.jpg', './data/Classes/Others/00624.jpg', './data/Classes/Others/00262.jpg', './data/Classes/Others/00344.jpg', './data/Classes/Others/00152.jpg', './data/Classes/Others/00798.jpg', './data/Classes/Others/00896.jpg', './data/Classes/Others/00283.jpg', './data/Classes/Danger/00845.jpg', './data/Classes/Others/00027.jpg', './data/Classes/Danger/00070.jpg', './data/Classes/Others/00379.jpg', './data/Classes/Others/00695.jpg', './data/Classes/Others/00762.jpg', './data/Classes/Danger/00148.jpg', './data/Classes/Others/00884.jpg', './data/Classes/Others/00854.jpg', './data/Classes/Danger/00492.jpg', './data/Classes/Others/00478.jpg', './data/Classes/Others/00373.jpg', './data/Classes/Others/00048.jpg', './data/Classes/Others/00725.jpg', './data/Classes/Others/00694.jpg', './data/Classes/Others/00730.jpg', './data/Classes/Others/00524.jpg', './data/Classes/Others/00686.jpg', './data/Classes/Others/00005.jpg', './data/Classes/Others/00242.jpg', './data/Classes/Others/00138.jpg', './data/Classes/Others/00612.jpg', './data/Classes/Others/00761.jpg', './data/Classes/Others/00794.jpg', './data/Classes/Danger/00398.jpg', './data/Classes/Others/00485.jpg', './data/Classes/Danger/00282.jpg', './data/Classes/Others/00885.jpg', './data/Classes/Others/00611.jpg', './data/Classes/Danger/00703.jpg', './data/Classes/Others/00154.jpg', './data/Classes/Danger/00073.jpg', './data/Classes/Danger/00544.jpg', './data/Classes/Others/00284.jpg', './data/Classes/Others/00210.jpg', './data/Classes/Others/00760.jpg', './data/Classes/Others/00778.jpg', './data/Classes/Others/00340.jpg', './data/Classes/Others/00626.jpg', './data/Classes/Others/00171.jpg', './data/Classes/Others/00142.jpg', './data/Classes/Danger/00443.jpg', './data/Classes/Others/00181.jpg', './data/Classes/Others/00531.jpg', './data/Classes/Others/00237.jpg', './data/Classes/Others/00795.jpg', './data/Classes/Others/00122.jpg', './data/Classes/Others/00634.jpg', './data/Classes/Others/00039.jpg', './data/Classes/Others/00836.jpg', './data/Classes/Others/00655.jpg', './data/Classes/Others/00552.jpg', './data/Classes/Others/00003.jpg', './data/Classes/Others/00813.jpg', './data/Classes/Others/00151.jpg', './data/Classes/Danger/00453.jpg', './data/Classes/Others/00057.jpg', './data/Classes/Danger/00265.jpg', './data/Classes/Others/00269.jpg', './data/Classes/Others/00789.jpg', './data/Classes/Others/00346.jpg', './data/Classes/Danger/00188.jpg', './data/Classes/Danger/00811.jpg', './data/Classes/Others/00434.jpg', './data/Classes/Others/00685.jpg', './data/Classes/Others/00260.jpg', './data/Classes/Others/00158.jpg', './data/Classes/Danger/00867.jpg', './data/Classes/Others/00192.jpg', './data/Classes/Others/00850.jpg', './data/Classes/Danger/00507.jpg', './data/Classes/Others/00091.jpg', './data/Classes/Others/00427.jpg', './data/Classes/Others/00204.jpg', './data/Classes/Danger/00828.jpg', './data/Classes/Others/00701.jpg', './data/Classes/Others/00375.jpg', './data/Classes/Others/00068.jpg', './data/Classes/Others/00180.jpg', './data/Classes/Danger/00071.jpg', './data/Classes/Others/00744.jpg', './data/Classes/Others/00405.jpg', './data/Classes/Others/00425.jpg', './data/Classes/Danger/00788.jpg', './data/Classes/Others/00241.jpg', './data/Classes/Others/00476.jpg', './data/Classes/Others/00011.jpg', './data/Classes/Others/00551.jpg', './data/Classes/Danger/00615.jpg', './data/Classes/Others/00808.jpg', './data/Classes/Danger/00802.jpg', './data/Classes/Others/00289.jpg', './data/Classes/Others/00862.jpg', './data/Classes/Others/00212.jpg', './data/Classes/Others/00391.jpg', './data/Classes/Others/00009.jpg', './data/Classes/Others/00215.jpg', './data/Classes/Others/00565.jpg', './data/Classes/Others/00566.jpg', './data/Classes/Others/00149.jpg', './data/Classes/Danger/00622.jpg', './data/Classes/Others/00066.jpg', './data/Classes/Others/00521.jpg', './data/Classes/Others/00898.jpg', './data/Classes/Danger/00266.jpg', './data/Classes/Others/00463.jpg', './data/Classes/Danger/00855.jpg', './data/Classes/Others/00125.jpg', './data/Classes/Others/00280.jpg', './data/Classes/Danger/00000.jpg', './data/Classes/Others/00842.jpg', './data/Classes/Others/00465.jpg', './data/Classes/Others/00041.jpg', './data/Classes/Danger/00837.jpg', './data/Classes/Others/00040.jpg', './data/Classes/Others/00720.jpg', './data/Classes/Danger/00426.jpg', './data/Classes/Others/00245.jpg', './data/Classes/Danger/00422.jpg', './data/Classes/Danger/00816.jpg', './data/Classes/Others/00366.jpg', './data/Classes/Others/00620.jpg', './data/Classes/Others/00343.jpg', './data/Classes/Others/00016.jpg', './data/Classes/Others/00293.jpg', './data/Classes/Others/00376.jpg', './data/Classes/Others/00749.jpg', './data/Classes/Others/00445.jpg', './data/Classes/Others/00318.jpg', './data/Classes/Others/00084.jpg', './data/Classes/Danger/00869.jpg', './data/Classes/Others/00307.jpg', './data/Classes/Others/00664.jpg', './data/Classes/Others/00118.jpg', './data/Classes/Others/00746.jpg', './data/Classes/Others/00879.jpg', './data/Classes/Others/00359.jpg', './data/Classes/Others/00129.jpg', './data/Classes/Danger/00817.jpg', './data/Classes/Others/00374.jpg', './data/Classes/Danger/00191.jpg', './data/Classes/Others/00333.jpg', './data/Classes/Danger/00567.jpg', './data/Classes/Others/00420.jpg', './data/Classes/Danger/00106.jpg', './data/Classes/Danger/00450.jpg', './data/Classes/Others/00656.jpg', './data/Classes/Others/00679.jpg', './data/Classes/Others/00402.jpg', './data/Classes/Danger/00004.jpg', './data/Classes/Others/00178.jpg', './data/Classes/Others/00090.jpg', './data/Classes/Others/00087.jpg', './data/Classes/Others/00571.jpg', './data/Classes/Others/00353.jpg', './data/Classes/Others/00466.jpg', './data/Classes/Others/00678.jpg', './data/Classes/Others/00605.jpg', './data/Classes/Others/00372.jpg', './data/Classes/Others/00613.jpg', './data/Classes/Others/00715.jpg', './data/Classes/Others/00729.jpg', './data/Classes/Danger/00183.jpg', './data/Classes/Others/00523.jpg', './data/Classes/Danger/00787.jpg', './data/Classes/Danger/00607.jpg', './data/Classes/Others/00415.jpg', './data/Classes/Danger/00172.jpg', './data/Classes/Others/00396.jpg', './data/Classes/Others/00756.jpg', './data/Classes/Others/00518.jpg', './data/Classes/Others/00738.jpg', './data/Classes/Others/00846.jpg', './data/Classes/Others/00313.jpg', './data/Classes/Others/00123.jpg', './data/Classes/Others/00616.jpg', './data/Classes/Others/00752.jpg', './data/Classes/Others/00515.jpg', './data/Classes/Others/00766.jpg', './data/Classes/Others/00069.jpg', './data/Classes/Danger/00665.jpg', './data/Classes/Others/00696.jpg', './data/Classes/Others/00111.jpg', './data/Classes/Others/00302.jpg', './data/Classes/Others/00458.jpg', './data/Classes/Others/00378.jpg', './data/Classes/Danger/00406.jpg', './data/Classes/Danger/00805.jpg', './data/Classes/Danger/00835.jpg', './data/Classes/Danger/00791.jpg', './data/Classes/Others/00421.jpg', './data/Classes/Others/00504.jpg', './data/Classes/Others/00243.jpg', './data/Classes/Others/00609.jpg', './data/Classes/Others/00430.jpg', './data/Classes/Others/00032.jpg', './data/Classes/Others/00414.jpg', './data/Classes/Others/00410.jpg', './data/Classes/Others/00044.jpg', './data/Classes/Others/00654.jpg', './data/Classes/Others/00187.jpg', './data/Classes/Others/00202.jpg', './data/Classes/Others/00412.jpg', './data/Classes/Danger/00160.jpg', './data/Classes/Others/00638.jpg', './data/Classes/Danger/00189.jpg', './data/Classes/Others/00144.jpg', './data/Classes/Others/00751.jpg', './data/Classes/Others/00503.jpg', './data/Classes/Others/00479.jpg', './data/Classes/Others/00519.jpg', './data/Classes/Others/00380.jpg', './data/Classes/Others/00456.jpg', './data/Classes/Danger/00771.jpg', './data/Classes/Danger/00047.jpg', './data/Classes/Others/00267.jpg', './data/Classes/Others/00672.jpg', './data/Classes/Danger/00689.jpg', './data/Classes/Others/00699.jpg', './data/Classes/Danger/00079.jpg', './data/Classes/Danger/00257.jpg', './data/Classes/Others/00680.jpg', './data/Classes/Others/00782.jpg', './data/Classes/Others/00803.jpg', './data/Classes/Others/00247.jpg', './data/Classes/Others/00838.jpg', './data/Classes/Others/00732.jpg', './data/Classes/Others/00175.jpg', './data/Classes/Others/00536.jpg', './data/Classes/Others/00413.jpg', './data/Classes/Others/00432.jpg', './data/Classes/Others/00330.jpg', './data/Classes/Others/00498.jpg', './data/Classes/Others/00200.jpg', './data/Classes/Others/00419.jpg', './data/Classes/Others/00602.jpg', './data/Classes/Others/00448.jpg', './data/Classes/Others/00650.jpg', './data/Classes/Others/00834.jpg', './data/Classes/Others/00428.jpg', './data/Classes/Others/00082.jpg', './data/Classes/Others/00303.jpg', './data/Classes/Others/00460.jpg', './data/Classes/Others/00491.jpg', './data/Classes/Others/00888.jpg', './data/Classes/Others/00025.jpg', './data/Classes/Danger/00195.jpg', './data/Classes/Others/00741.jpg', './data/Classes/Others/00176.jpg', './data/Classes/Others/00663.jpg', './data/Classes/Others/00857.jpg', './data/Classes/Others/00141.jpg', './data/Classes/Danger/00021.jpg', './data/Classes/Others/00061.jpg', './data/Classes/Others/00474.jpg', './data/Classes/Others/00217.jpg', './data/Classes/Others/00051.jpg', './data/Classes/Danger/00104.jpg', './data/Classes/Others/00053.jpg', './data/Classes/Others/00286.jpg', './data/Classes/Others/00251.jpg', './data/Classes/Others/00101.jpg', './data/Classes/Danger/00493.jpg', './data/Classes/Danger/00075.jpg', './data/Classes/Others/00416.jpg', './data/Classes/Others/00866.jpg', './data/Classes/Others/00351.jpg', './data/Classes/Others/00296.jpg', './data/Classes/Others/00277.jpg', './data/Classes/Others/00435.jpg', './data/Classes/Danger/00211.jpg', './data/Classes/Others/00872.jpg', './data/Classes/Others/00049.jpg', './data/Classes/Others/00182.jpg', './data/Classes/Others/00700.jpg', './data/Classes/Others/00881.jpg', './data/Classes/Danger/00651.jpg', './data/Classes/Others/00169.jpg', './data/Classes/Others/00010.jpg', './data/Classes/Others/00315.jpg', './data/Classes/Danger/00772.jpg', './data/Classes/Others/00341.jpg', './data/Classes/Others/00785.jpg', './data/Classes/Danger/00383.jpg', './data/Classes/Others/00871.jpg', './data/Classes/Others/00357.jpg', './data/Classes/Others/00497.jpg', './data/Classes/Others/00628.jpg', './data/Classes/Others/00659.jpg', './data/Classes/Others/00198.jpg', './data/Classes/Others/00719.jpg', './data/Classes/Danger/00224.jpg', './data/Classes/Others/00721.jpg', './data/Classes/Others/00870.jpg', './data/Classes/Others/00517.jpg', './data/Classes/Others/00865.jpg', './data/Classes/Others/00109.jpg', './data/Classes/Danger/00723.jpg', './data/Classes/Others/00233.jpg', './data/Classes/Others/00337.jpg', './data/Classes/Others/00484.jpg', './data/Classes/Others/00849.jpg', './data/Classes/Others/00683.jpg', './data/Classes/Danger/00455.jpg', './data/Classes/Danger/00031.jpg', './data/Classes/Danger/00238.jpg', './data/Classes/Others/00575.jpg', './data/Classes/Others/00661.jpg', './data/Classes/Others/00350.jpg', './data/Classes/Others/00153.jpg', './data/Classes/Danger/00822.jpg', './data/Classes/Danger/00205.jpg', './data/Classes/Others/00134.jpg', './data/Classes/Others/00698.jpg', './data/Classes/Danger/00671.jpg', './data/Classes/Danger/00054.jpg', './data/Classes/Others/00499.jpg', './data/Classes/Others/00619.jpg', './data/Classes/Others/00601.jpg', './data/Classes/Danger/00017.jpg', './data/Classes/Others/00114.jpg', './data/Classes/Danger/00728.jpg', './data/Classes/Others/00225.jpg', './data/Classes/Others/00754.jpg', './data/Classes/Others/00290.jpg', './data/Classes/Danger/00305.jpg', './data/Classes/Danger/00294.jpg', './data/Classes/Danger/00393.jpg', './data/Classes/Others/00472.jpg', './data/Classes/Others/00642.jpg', './data/Classes/Others/00135.jpg', './data/Classes/Others/00784.jpg', './data/Classes/Others/00527.jpg', './data/Classes/Others/00514.jpg', './data/Classes/Others/00841.jpg', './data/Classes/Others/00161.jpg', './data/Classes/Others/00098.jpg', './data/Classes/Others/00007.jpg', './data/Classes/Others/00140.jpg', './data/Classes/Others/00827.jpg', './data/Classes/Others/00645.jpg', './data/Classes/Danger/00418.jpg', './data/Classes/Others/00050.jpg', './data/Classes/Others/00623.jpg', './data/Classes/Others/00270.jpg', './data/Classes/Others/00216.jpg', './data/Classes/Others/00166.jpg', './data/Classes/Others/00606.jpg', './data/Classes/Others/00530.jpg', './data/Classes/Others/00019.jpg', './data/Classes/Others/00542.jpg', './data/Classes/Others/00232.jpg', './data/Classes/Others/00639.jpg', './data/Classes/Others/00528.jpg', './data/Classes/Danger/00028.jpg', './data/Classes/Others/00706.jpg', './data/Classes/Others/00291.jpg', './data/Classes/Danger/00564.jpg', './data/Classes/Others/00110.jpg', './data/Classes/Others/00223.jpg', './data/Classes/Others/00853.jpg', './data/Classes/Others/00246.jpg', './data/Classes/Others/00023.jpg', './data/Classes/Others/00163.jpg', './data/Classes/Others/00833.jpg', './data/Classes/Others/00734.jpg', './data/Classes/Others/00278.jpg', './data/Classes/Others/00287.jpg', './data/Classes/Others/00682.jpg', './data/Classes/Others/00186.jpg', './data/Classes/Danger/00452.jpg', './data/Classes/Others/00116.jpg', './data/Classes/Others/00065.jpg', './data/Classes/Others/00548.jpg', './data/Classes/Others/00603.jpg', './data/Classes/Danger/00604.jpg', './data/Classes/Others/00220.jpg', './data/Classes/Others/00275.jpg', './data/Classes/Danger/00444.jpg', './data/Classes/Others/00094.jpg', './data/Classes/Others/00545.jpg', './data/Classes/Danger/00197.jpg', './data/Classes/Others/00797.jpg', './data/Classes/Others/00776.jpg', './data/Classes/Others/00647.jpg', './data/Classes/Others/00488.jpg', './data/Classes/Danger/00168.jpg', './data/Classes/Others/00334.jpg', './data/Classes/Others/00755.jpg', './data/Classes/Others/00848.jpg', './data/Classes/Others/00646.jpg', './data/Classes/Others/00824.jpg', './data/Classes/Others/00480.jpg', './data/Classes/Others/00029.jpg', './data/Classes/Others/00056.jpg', './data/Classes/Others/00494.jpg', './data/Classes/Danger/00763.jpg', './data/Classes/Others/00250.jpg', './data/Classes/Others/00377.jpg', './data/Classes/Others/00740.jpg', './data/Classes/Others/00292.jpg', './data/Classes/Danger/00022.jpg'] (of type <class 'list'>)"
     ]
    }
   ],
   "source": [
    "history_w = model1.fit(train_images, train_labels, validation_data=(val_images, val_labels), epochs=10, batch_size=32, class_weight=class_weight_dict)"
   ]
  },
  {
   "cell_type": "markdown",
   "id": "1fc3e080-43a8-4d4c-b923-24d443defe8e",
   "metadata": {},
   "source": [
    "# IV. Test with Added Images from Video\n",
    "\n",
    "___\n",
    "\n",
    "\n",
    "[Click here to watch the youtube video](https://youtu.be/A3pw_ktIcdM)\n",
    "\n",
    "For the study, wet the start time to 10 seconds and end time to 1 minute 58 seconds\n",
    "\n",
    "\n",
    "## 1. Transform Video into Images\n",
    "\n",
    "This code extracts frames from a video and rename each frame with its frame number. \n",
    "- Using OpenCV, the video is read frame by frame, and each frame is saved as an image in a specified folder.\n",
    "- The frame is optionally labeled with text (like the frame number)\n",
    "- This process is important for creating datasets used in machine learning tasks, such as object detection, where labeled frames are needed for training models\n",
    "\n",
    "\n",
    "## 2. Labelization\n",
    "\n",
    "**Danger category** consists of following Traffic Sings: priority at next intersection, danger, bend left, bend right, bend, uneven road, slippery road, road narrows, construction, traffic signal, pedestrian crossing, school crossing, cycles crossing, snow, animals.\n",
    "\n",
    "\n",
    "The code below extracts frames from the video, displaying each frame in a window. We can click on a frame to save it as an image in a specified folder if the frame contains the object class considered in our project (here, a danger sign). \n",
    "\n",
    "We don't use this code since we have already added the data in the folder './data/Classes_with_video_content/Danger'"
   ]
  },
  {
   "cell_type": "raw",
   "id": "e21ca291-4f7f-4412-bb7c-25f8fba455cd",
   "metadata": {
    "scrolled": true
   },
   "source": [
    "# Video and output paths\n",
    "video_path = 'driving_video.mp4'\n",
    "output_folder = 'data/Classes/Danger'\n",
    "\n",
    "# Open video\n",
    "cap = cv2.VideoCapture(video_path)\n",
    "if not cap.isOpened():\n",
    "    print(\"Error: Could not open video.\")\n",
    "    exit()\n",
    "\n",
    "# Video properties\n",
    "fps = cap.get(cv2.CAP_PROP_FPS)\n",
    "start_time = 10  # Start in at 10 seconds\n",
    "end_time = 11  # End at 1 minute 58 seconds\n",
    "# Set the video to start from the start time\n",
    "cap.set(cv2.CAP_PROP_POS_MSEC, start_time * 1000)\n",
    "# Global frame counter\n",
    "global frame_count\n",
    "existing_files = [f for f in os.listdir(output_folder) if f.startswith('frame_') and f.endswith('.jpg')]\n",
    "existing_numbers = [int(f.split('_')[1].split('.')[0]) for f in existing_files]\n",
    "frame_count = max(existing_numbers) + 1 if existing_numbers else 0 \n",
    "\n",
    "# Mouse event function to save frame on left-click\n",
    "def save_frame_on_click(event, x, y, flags, param):\n",
    "    global frame, frame_count\n",
    "    if event == cv2.EVENT_LBUTTONDOWN:\n",
    "        # Save the frame as an image\n",
    "        frame_filename = os.path.join(output_folder, f'frame_{frame_count:04d}.jpg')\n",
    "        cv2.imwrite(frame_filename, frame)\n",
    "        print(f\"Frame saved: {frame_filename}\")\n",
    "        \n",
    "        # Increment frame count\n",
    "        frame_count += 1\n",
    "\n",
    "# Set up mouse callback\n",
    "cv2.namedWindow('Frame')\n",
    "cv2.setMouseCallback('Frame', save_frame_on_click)\n",
    "\n",
    "# Display frames and detect clicks\n",
    "while True:\n",
    "    ret, frame = cap.read()\n",
    "    if not ret:\n",
    "        break\n",
    "    cv2.imshow('Frame', frame)\n",
    "    \n",
    "    # Close the window if 'q' is pressed\n",
    "    if cv2.waitKey(1) & 0xFF == ord('q'):\n",
    "        break\n",
    "\n",
    "# Cleanup\n",
    "cap.release()\n",
    "cv2.destroyAllWindows()\n",
    "\n",
    "print(f\"Frames saved to: {output_folder}\")\n",
    "print(f\"Number of Frames saved: {frame_count}\")"
   ]
  },
  {
   "cell_type": "markdown",
   "id": "8856d4ba-8de4-4bbc-b670-e3031476e3a7",
   "metadata": {},
   "source": [
    "## Adding images from video to the training\n",
    "\n",
    "Images from the video are labelled as follow: \"video_test_frame_xxxx.jpg\""
   ]
  },
  {
   "cell_type": "code",
   "execution_count": 4,
   "id": "3285ba24-4042-4056-b48d-af2d63fc7cce",
   "metadata": {},
   "outputs": [
    {
     "data": {
      "text/plain": [
       "(1734, 576, 2310)"
      ]
     },
     "execution_count": 4,
     "metadata": {},
     "output_type": "execute_result"
    }
   ],
   "source": [
    "len_danger = len(os.listdir('./data/Classes_with_video_content/Danger'))\n",
    "len_others = len(os.listdir('./data/Classes_with_video_content/Others'))\n",
    "len_danger, len_others, len_danger + len_others"
   ]
  },
  {
   "cell_type": "code",
   "execution_count": 3,
   "id": "5228284d-437f-45c3-8455-f7036bf40115",
   "metadata": {},
   "outputs": [
    {
     "name": "stdout",
     "output_type": "stream",
     "text": [
      "Found 1848 images belonging to 2 classes.\n",
      "Found 461 images belonging to 2 classes.\n"
     ]
    }
   ],
   "source": [
    "data_dir2 = './data/Classes_with_video_content/'\n",
    "# Configuration des chemins et des paramètres\n",
    "img_height, img_width = 128, 128\n",
    "batch_size = 32\n",
    "\n",
    "# Générateur principal de données\n",
    "datagen2 = ImageDataGenerator(rescale=1.0/255.0, validation_split=0.8  # Use 80% for training, 20% for validation\n",
    "    #rotation_range=20,  # Randomly rotate images by up to 20 degrees\n",
    "    #width_shift_range=0.2,  # Randomly shift images horizontally\n",
    "    #height_shift_range=0.2,  # Randomly shift images vertically\n",
    "    #shear_range=0.2,  # Shear images by up to 20%\n",
    "   # zoom_range=0.2,  # Zoom into the images by up to 20%\n",
    "  #  horizontal_flip=True,  # Randomly flip images horizontally\n",
    "    #fill_mode='nearest',  # Filling missing pixels after transformations\n",
    ")\n",
    "\n",
    "# Charger les images et labels depuis les sous-dossiers\n",
    "train_generator2 = datagen2.flow_from_directory(\n",
    "    data_dir2,\n",
    "    target_size=(img_height, img_width),\n",
    "    batch_size=batch_size,\n",
    "    class_mode='binary',\n",
    "    shuffle=True, \n",
    "    subset='training'\n",
    ")\n",
    "\n",
    " \n",
    "# Générer les sous-ensembles de validation  \n",
    "validation_generator2 = datagen2.flow_from_directory(\n",
    "    data_dir2,\n",
    "    target_size=(img_height, img_width),\n",
    "    batch_size=batch_size,\n",
    "    class_mode='binary',\n",
    "    shuffle=True, \n",
    "    subset='validation'\n",
    ")"
   ]
  },
  {
   "cell_type": "code",
   "execution_count": 4,
   "id": "f1754fff-7df7-465b-af4a-5841202c7b55",
   "metadata": {},
   "outputs": [
    {
     "data": {
      "image/png": "[encoded data removed]",
      "text/plain": [
       "<Figure size 800x600 with 1 Axes>"
      ]
     },
     "metadata": {},
     "output_type": "display_data"
    }
   ],
   "source": [
    "# Get the number of files in each directory\n",
    "others_count = len(os.listdir('./data/Classes_with_video_content/Others'))\n",
    "danger_count = len(os.listdir('./data/Classes_with_video_content/Danger'))\n",
    "\n",
    "# Create a DataFrame for plotting\n",
    "data = pd.DataFrame({'Category': ['Others', 'Danger'],\n",
    "    'Count': [others_count, danger_count]})\n",
    "\n",
    "# Plot the bar chart\n",
    "plt.figure(figsize=(8, 6))\n",
    "ax = sns.barplot(x='Category', y='Count', data=data, hue='Category', legend=False)\n",
    "plt.title('Number of Images in Each Category')\n",
    "plt.xlabel('Category')\n",
    "plt.ylabel('Count')\n",
    "\n",
    "# Add the count value on top of each bar\n",
    "for p in ax.patches:\n",
    "    ax.annotate(f'{int(p.get_height())}', \n",
    "                (p.get_x() + p.get_width() / 2., p.get_height()), \n",
    "                ha='center', va='center', \n",
    "                fontsize=12, color='black', \n",
    "                xytext=(0, 5), textcoords='offset points')\n",
    "plt.show()"
   ]
  },
  {
   "cell_type": "code",
   "execution_count": 1,
   "id": "350f898b-7a54-4172-89ee-416a29139491",
   "metadata": {},
   "outputs": [
    {
     "ename": "NameError",
     "evalue": "name 'Sequential' is not defined",
     "output_type": "error",
     "traceback": [
      "\u001b[0;31m---------------------------------------------------------------------------\u001b[0m",
      "\u001b[0;31mNameError\u001b[0m                                 Traceback (most recent call last)",
      "Cell \u001b[0;32mIn[1], line 1\u001b[0m\n\u001b[0;32m----> 1\u001b[0m model2 \u001b[38;5;241m=\u001b[39m Sequential() \u001b[38;5;66;03m# Initialization\u001b[39;00m\n\u001b[1;32m      3\u001b[0m model2\u001b[38;5;241m.\u001b[39madd(Conv2D(\u001b[38;5;241m16\u001b[39m, (\u001b[38;5;241m3\u001b[39m, \u001b[38;5;241m3\u001b[39m), activation\u001b[38;5;241m=\u001b[39m\u001b[38;5;124m'\u001b[39m\u001b[38;5;124mrelu\u001b[39m\u001b[38;5;124m'\u001b[39m, input_shape\u001b[38;5;241m=\u001b[39m(img_height, img_width, \u001b[38;5;241m3\u001b[39m)))\n\u001b[1;32m      4\u001b[0m model2\u001b[38;5;241m.\u001b[39madd(MaxPooling2D((\u001b[38;5;241m2\u001b[39m, \u001b[38;5;241m2\u001b[39m)))\n",
      "\u001b[0;31mNameError\u001b[0m: name 'Sequential' is not defined"
     ]
    }
   ],
   "source": [
    "model2 = Sequential() # Initialization\n",
    "\n",
    "model2.add(Conv2D(16, (3, 3), activation='relu', input_shape=(img_height, img_width, 3)))\n",
    "model2.add(MaxPooling2D((2, 2)))\n",
    "\n",
    "model2.add(Conv2D(32, (3, 3), activation='relu'))\n",
    "model2.add(MaxPooling2D((2, 2)))\n",
    "\n",
    "model2.add(Flatten())  # Flattening \n",
    "model2.add(Dense(64, activation='relu'))    # Fully Connected Layer\n",
    "model2.add(Dense(1, activation='sigmoid'))    # Sigmoid for binary classification \n",
    "\n",
    "# Compilation du modèle\n",
    "model2.compile(optimizer='adam', loss='binary_crossentropy', metrics=['accuracy'])"
   ]
  },
  {
   "cell_type": "code",
   "execution_count": null,
   "id": "7cae8939-d0ac-44c8-adde-9407ef834001",
   "metadata": {},
   "outputs": [
    {
     "name": "stdout",
     "output_type": "stream",
     "text": [
      "Epoch 1/10\n"
     ]
    }
   ],
   "source": [
    "history2 = model2.fit(train_generator2, epochs=10, verbose=True, validation_data=validation_generator2)"
   ]
  },
  {
   "cell_type": "code",
   "execution_count": null,
   "id": "af64f9ea-8d11-4fc9-afbd-3c542ca9875a",
   "metadata": {},
   "outputs": [],
   "source": []
  }
 ],
 "metadata": {
  "kernelspec": {
   "display_name": "Python 3 (ipykernel)",
   "language": "python",
   "name": "python3"
  },
  "language_info": {
   "codemirror_mode": {
    "name": "ipython",
    "version": 3
   },
   "file_extension": ".py",
   "mimetype": "text/x-python",
   "name": "python",
   "nbconvert_exporter": "python",
   "pygments_lexer": "ipython3",
   "version": "3.12.4"
  }
 },
 "nbformat": 4,
 "nbformat_minor": 5
}
